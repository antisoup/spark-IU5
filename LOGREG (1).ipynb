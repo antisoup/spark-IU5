{
 "cells": [
  {
   "cell_type": "code",
   "execution_count": 1,
   "id": "78360dbd-2336-4ee9-972a-56032dfbedfb",
   "metadata": {},
   "outputs": [],
   "source": [
    "from pyspark.ml import Pipeline\n",
    "from pyspark.ml.classification import LogisticRegression\n",
    "from pyspark.ml.feature import HashingTF, Tokenizer\n",
    "from pyspark.sql import Row\n",
    "from pyspark.sql.functions import UserDefinedFunction\n",
    "from pyspark.sql.types import *\n",
    "from pyspark.context import SparkContext\n",
    "from pyspark.sql.session import SparkSession\n",
    "\n",
    "sc = SparkContext('local')\n",
    "spark = SparkSession(sc)"
   ]
  },
  {
   "cell_type": "code",
   "execution_count": 2,
   "id": "fd7fb8f5-c529-4f6d-85c5-94f0004a3bdb",
   "metadata": {},
   "outputs": [
    {
     "name": "stdout",
     "output_type": "stream",
     "text": [
      "+-------------+--------------------+--------------------+---------+--------------------+---------------+--------------------+-------+-----+-----+---------------+--------------------+---------------+--------------------+------------------+------------------+--------------------+\n",
      "|Inspection ID|            DBA Name|            AKA Name|License #|       Facility Type|           Risk|             Address|   City|State|  Zip|Inspection Date|     Inspection Type|        Results|          Violations|          Latitude|         Longitude|            Location|\n",
      "+-------------+--------------------+--------------------+---------+--------------------+---------------+--------------------+-------+-----+-----+---------------+--------------------+---------------+--------------------+------------------+------------------+--------------------+\n",
      "|      2555349|      ARIGATO MARKET|      ARIGATO MARKET|  2641941|       Grocery Store|  Risk 1 (High)|   1407 W GRAND AVE |CHICAGO|   IL|60642|     05/05/2022|      Non-Inspection|       No Entry|                null|41.890915120656764|-87.66256272528274|(-87.662562725282...|\n",
      "|      2555341|CLOWNS PANCAKE HO...|CLOWNS PANCAKE HOUSE|  1921596|          Restaurant|  Risk 1 (High)| 5804 S WESTERN AVE |CHICAGO|   IL|60636|     05/05/2022|             Canvass|           Pass|37. FOOD PROPERLY...|41.788150520767076|-87.68402468529148|(-87.684024685291...|\n",
      "|      2555286|LA GUERITA MEXICA...|LA GUERITA MEXICA...|  2840820|Mobile Food Preparer|Risk 2 (Medium)|   2300 S THROOP ST |CHICAGO|   IL|60608|     05/04/2022|             License|           Pass|                null|    41.85045102427|-87.65879785567869|(-87.658797855678...|\n",
      "|      2555284|LA TAPENADE GATE H14|LA TAPENADE  (T3 ...|  2363766|          Restaurant|  Risk 1 (High)|  11601 W TOUHY AVE |CHICAGO|   IL|60666|     05/04/2022|             Canvass|           Pass|                null|42.008536400868735|-87.91442843927047|(-87.914428439270...|\n",
      "|      2555265|   STAN'S DONUTS MSI|   STAN'S DONUTS MSI|  2845112|                null|   Risk 3 (Low)|5700 S JEAN BAPTI...|CHICAGO|   IL|60637|     05/04/2022|             License|      Not Ready|                null| 41.79142028209799|-87.58014776868883|(-87.580147768688...|\n",
      "|      2555259|  BANG BANG BISCUITS|  BANG BANG BISCUITS|  2458777|          Restaurant|  Risk 1 (High)|   4947 N DAMEN AVE |CHICAGO|   IL|60625|     05/04/2022|      Non-Inspection|       No Entry|                null|41.971969426617925|-87.67913613598748|(-87.679136135987...|\n",
      "|      2555263|   LIL BUDDY'S, INC.|         LIL BUDDY'S|  2808716|Mobile Food Preparer|Risk 2 (Medium)|   2300 S THROOP ST |CHICAGO|   IL|60608|     05/04/2022|License Re-Inspec...|           Pass|                null|    41.85045102427|-87.65879785567869|(-87.658797855678...|\n",
      "|      2555240|      LEE ELEMENTARY|      LEE ELEMENTARY|    26331|              School|  Risk 1 (High)|6448 S Tripp (423...|CHICAGO|   IL|60629|     05/04/2022|Canvass Re-Inspec...|           Pass|53. TOILET FACILI...|41.775328312329904|-87.72892174006991|(-87.728921740069...|\n",
      "|      2555235|ARAMARK EDUCATION...|       CICS-BUCKTOWN|  2647374|              School|  Risk 1 (High)|2235 N HAMILTON AVE |CHICAGO|   IL|60647|     05/04/2022|             Canvass|           Pass|57. ALL FOOD EMPL...| 41.92239845141814|-87.68132063695731|(-87.681320636957...|\n",
      "|      2555224|GAN SHALOM (TEMPL...|GAN SHALOM (TEMPL...|  2215578|Daycare (2 - 6 Ye...|  Risk 1 (High)|3480 N LAKE SHORE...|CHICAGO|   IL|60657|     05/04/2022|             Canvass|           Pass|51. PLUMBING INST...| 41.94609839553065|-87.64215458706731|(-87.642154587067...|\n",
      "|      2555204|FROM HERE ON FOOD...|FROM HERE ON FOOD...|  2817907|          Restaurant|  Risk 1 (High)| 433 W VAN BUREN ST |CHICAGO|   IL|60607|     05/03/2022|             License|           Pass|                null|41.876667432354196|-87.63917766411434|(-87.639177664114...|\n",
      "|      2555209|  SAM FOOD & GROCERY|  SAM FOOD & GROCERY|  2786703|       Grocery Store|            All|   628 S PULASKI RD |CHICAGO|   IL|60624|     05/03/2022|             Canvass|Out of Business|                null| 41.87262315988064|-87.72554823998072|(-87.725548239980...|\n",
      "|      2555217|AVONDALE-LOGANDAL...|LOGANDALE MIDDLE ...|    41091|              School|  Risk 1 (High)|   3212 W George ST |CHICAGO|   IL|60618|     05/04/2022|Canvass Re-Inspec...|           Pass|                null| 41.93399760040288|-87.70804358569396|(-87.708043585693...|\n",
      "|      2555194|KIDDIE COLLEGE LE...|KIDDIE COLLEGE LE...|  2831049|Children's Servic...|  Risk 1 (High)|     2845 W 71ST ST |CHICAGO|   IL|60629|     05/03/2022|License Re-Inspec...|           Pass|                null| 41.76439832223245|-87.69481744798337|(-87.694817447983...|\n",
      "|      2555188|Judson & Moore Ta...|JUDSON & MOORE AM...|  2823316|              TAVERN|   Risk 3 (Low)| 3057 N ROCKWELL ST |CHICAGO|   IL|60618|     05/03/2022|License Re-Inspec...|           Pass|                null| 41.93739494901925|-87.69273768966114|(-87.692737689661...|\n",
      "|      2555189|Judson & Moore Ta...|JUDSON & MOORE AM...|  2823315|              TAVERN|   Risk 3 (Low)| 3057 N ROCKWELL ST |CHICAGO|   IL|60618|     05/03/2022|License Re-Inspec...|           Pass|                null| 41.93739494901925|-87.69273768966114|(-87.692737689661...|\n",
      "|      2555178|THE GREAT AMERICA...|THE GREAT AMERICA...|  1879165|          Restaurant|  Risk 1 (High)|  11601 W TOUHY AVE |CHICAGO|   IL|60666|     05/03/2022|             Canvass|           Pass|                null|42.008536400868735|-87.91442843927047|(-87.914428439270...|\n",
      "|      2555164|   CARBON ON CHICAGO|   CARBON ON CHICAGO|  2068654|          Restaurant|  Risk 1 (High)|810 N MARSHFIELD ...|CHICAGO|   IL|60622|     05/03/2022|Canvass Re-Inspec...|           Pass|                null| 41.89641175668324|-87.66867222719841|(-87.668672227198...|\n",
      "|      2555159|           Kozminski|           Kozminski|    31151|              School|  Risk 1 (High)|936 E 54th St (54...|CHICAGO|   IL|60615|     05/03/2022|Canvass Re-Inspec...|           Pass|                null|41.798029497076946|-87.60246286753599|(-87.602462867535...|\n",
      "|      2555149|             ELINA'S|             ELINA'S|  2841338|          Restaurant|  Risk 1 (High)|   1202 W GRAND AVE |CHICAGO|   IL|60642|     05/03/2022|             License|           Pass|                null| 41.89118844970238|-87.65756869828567|(-87.657568698285...|\n",
      "+-------------+--------------------+--------------------+---------+--------------------+---------------+--------------------+-------+-----+-----+---------------+--------------------+---------------+--------------------+------------------+------------------+--------------------+\n",
      "only showing top 20 rows\n",
      "\n"
     ]
    }
   ],
   "source": [
    "inspections = spark.read.csv('Food_Inspections.csv', header = True)\n",
    "inspections.show()"
   ]
  },
  {
   "cell_type": "code",
   "execution_count": 3,
   "id": "b9edfaf1-bced-4c8c-8324-9b64c5988837",
   "metadata": {},
   "outputs": [
    {
     "name": "stderr",
     "output_type": "stream",
     "text": [
      "/usr/local/spark/python/pyspark/sql/dataframe.py:138: FutureWarning: Deprecated in 2.0, use createOrReplaceTempView instead.\n",
      "  warnings.warn(\n"
     ]
    },
    {
     "name": "stdout",
     "output_type": "stream",
     "text": [
      "+-------+--------------------+---------------+--------------------+\n",
      "|     id|                name|        results|          violations|\n",
      "+-------+--------------------+---------------+--------------------+\n",
      "|2555349|      ARIGATO MARKET|       No Entry|                null|\n",
      "|2555341|CLOWNS PANCAKE HO...|           Pass|37. FOOD PROPERLY...|\n",
      "|2555286|LA GUERITA MEXICA...|           Pass|                null|\n",
      "|2555284|LA TAPENADE GATE H14|           Pass|                null|\n",
      "|2555265|   STAN'S DONUTS MSI|      Not Ready|                null|\n",
      "|2555259|  BANG BANG BISCUITS|       No Entry|                null|\n",
      "|2555263|   LIL BUDDY'S, INC.|           Pass|                null|\n",
      "|2555240|      LEE ELEMENTARY|           Pass|53. TOILET FACILI...|\n",
      "|2555235|ARAMARK EDUCATION...|           Pass|57. ALL FOOD EMPL...|\n",
      "|2555224|GAN SHALOM (TEMPL...|           Pass|51. PLUMBING INST...|\n",
      "|2555204|FROM HERE ON FOOD...|           Pass|                null|\n",
      "|2555209|  SAM FOOD & GROCERY|Out of Business|                null|\n",
      "|2555217|AVONDALE-LOGANDAL...|           Pass|                null|\n",
      "|2555194|KIDDIE COLLEGE LE...|           Pass|                null|\n",
      "|2555188|Judson & Moore Ta...|           Pass|                null|\n",
      "|2555189|Judson & Moore Ta...|           Pass|                null|\n",
      "|2555178|THE GREAT AMERICA...|           Pass|                null|\n",
      "|2555164|   CARBON ON CHICAGO|           Pass|                null|\n",
      "|2555159|           Kozminski|           Pass|                null|\n",
      "|2555149|             ELINA'S|           Pass|                null|\n",
      "+-------+--------------------+---------------+--------------------+\n",
      "only showing top 20 rows\n",
      "\n"
     ]
    }
   ],
   "source": [
    "from pyspark.sql.functions import col\n",
    "\n",
    "df = inspections.select(col('Inspection ID').alias('id'), col('DBA Name').alias('name'), col('Results').alias('results'),\\\n",
    "                        col('Violations').alias('violations'))\n",
    "df.registerTempTable('CountResults')\n",
    "df.show()"
   ]
  },
  {
   "cell_type": "code",
   "execution_count": 4,
   "id": "b388d91a-353e-420a-86dc-02dbdc86f754",
   "metadata": {},
   "outputs": [
    {
     "name": "stdout",
     "output_type": "stream",
     "text": [
      "+--------------------+\n",
      "|             results|\n",
      "+--------------------+\n",
      "|           Not Ready|\n",
      "|                Fail|\n",
      "|            No Entry|\n",
      "|Business Not Located|\n",
      "|  Pass w/ Conditions|\n",
      "|     Out of Business|\n",
      "|                Pass|\n",
      "+--------------------+\n",
      "\n"
     ]
    }
   ],
   "source": [
    "df.select('results').distinct().show()"
   ]
  },
  {
   "cell_type": "code",
   "execution_count": 5,
   "id": "578500a6-8c17-45a6-9894-7ccb6d565bee",
   "metadata": {},
   "outputs": [],
   "source": [
    "countResultsdf = spark.sql(\"SELECT COUNT(results) AS cnt, results as results FROM CountResults GROUP BY results\").toPandas()"
   ]
  },
  {
   "cell_type": "code",
   "execution_count": 6,
   "id": "afd08a79-0084-468d-83e8-194e9ef74d24",
   "metadata": {},
   "outputs": [
    {
     "data": {
      "text/plain": [
       "(-1.1091860581010853,\n",
       " 1.1004374327687274,\n",
       " -1.1064130382999895,\n",
       " 1.1074430329973606)"
      ]
     },
     "execution_count": 6,
     "metadata": {},
     "output_type": "execute_result"
    },
    {
     "data": {
      "image/png": "[encoded data removed]",
      "text/plain": [
       "<Figure size 432x288 with 1 Axes>"
      ]
     },
     "metadata": {},
     "output_type": "display_data"
    }
   ],
   "source": [
    "import matplotlib.pyplot as plt\n",
    "\n",
    "labels = countResultsdf['results']\n",
    "sizes = countResultsdf['cnt']\n",
    "colors = ['turquoise', 'seagreen', 'mediumslateblue', 'palegreen', 'coral']\n",
    "plt.pie(sizes, labels=labels, autopct='%1.1f%%', colors=colors)\n",
    "plt.axis('equal')"
   ]
  },
  {
   "cell_type": "code",
   "execution_count": 7,
   "id": "7f301297-d6bf-4532-8fc6-39417f95b258",
   "metadata": {},
   "outputs": [],
   "source": [
    "splits = df.randomSplit([0.2, 0.8])\n",
    "train = splits[0]\n",
    "test = splits[1]"
   ]
  },
  {
   "cell_type": "code",
   "execution_count": 8,
   "id": "8f68ed8e-28bb-4631-b059-060736153d71",
   "metadata": {},
   "outputs": [],
   "source": [
    "def labelForResults(s):\n",
    "    if s == 'Fail':\n",
    "        return 0.0\n",
    "    elif s == 'Pass w/ Conditions' or s == 'Pass':\n",
    "        return 1.0\n",
    "    else:\n",
    "        return -1.0\n",
    "label = UserDefinedFunction(labelForResults, DoubleType())\n",
    "labeledData = train.select(label(df.results).alias('label'), df.violations).where('label >= 0')"
   ]
  },
  {
   "cell_type": "code",
   "execution_count": 9,
   "id": "b5a45877-06ce-423c-8d27-f15130b418a5",
   "metadata": {},
   "outputs": [
    {
     "name": "stdout",
     "output_type": "stream",
     "text": [
      "+-----+--------------------+\n",
      "|label|          violations|\n",
      "+-----+--------------------+\n",
      "|  1.0|                null|\n",
      "|  0.0|1. SOURCE SOUND C...|\n",
      "|  1.0|33. FOOD AND NON-...|\n",
      "|  1.0|                null|\n",
      "|  0.0|26. ADEQUATE NUMB...|\n",
      "|  1.0|34. FLOORS: CONST...|\n",
      "|  1.0|34. FLOORS: CONST...|\n",
      "|  1.0|35. WALLS, CEILIN...|\n",
      "|  1.0|36. LIGHTING: REQ...|\n",
      "|  1.0|                null|\n",
      "|  1.0|37. TOILET ROOM D...|\n",
      "|  1.0|32. FOOD AND NON-...|\n",
      "|  1.0|33. FOOD AND NON-...|\n",
      "|  1.0|30. FOOD IN ORIGI...|\n",
      "|  1.0|32. FOOD AND NON-...|\n",
      "|  1.0|33. FOOD AND NON-...|\n",
      "|  1.0|43. FOOD (ICE) DI...|\n",
      "|  1.0|                null|\n",
      "|  1.0|38. VENTILATION: ...|\n",
      "|  0.0|                null|\n",
      "+-----+--------------------+\n",
      "only showing top 20 rows\n",
      "\n"
     ]
    }
   ],
   "source": [
    "labeledData.show()"
   ]
  },
  {
   "cell_type": "code",
   "execution_count": 10,
   "id": "799f52bc-d918-4931-97ac-29f569d03546",
   "metadata": {},
   "outputs": [
    {
     "name": "stdout",
     "output_type": "stream",
     "text": [
      "+-----+--------------------+\n",
      "|label|          violations|\n",
      "+-----+--------------------+\n",
      "|  1.0|                    |\n",
      "|  0.0|1. SOURCE SOUND C...|\n",
      "|  1.0|33. FOOD AND NON-...|\n",
      "|  1.0|                    |\n",
      "|  0.0|26. ADEQUATE NUMB...|\n",
      "|  1.0|34. FLOORS: CONST...|\n",
      "|  1.0|34. FLOORS: CONST...|\n",
      "|  1.0|35. WALLS, CEILIN...|\n",
      "|  1.0|36. LIGHTING: REQ...|\n",
      "|  1.0|                    |\n",
      "|  1.0|37. TOILET ROOM D...|\n",
      "|  1.0|32. FOOD AND NON-...|\n",
      "|  1.0|33. FOOD AND NON-...|\n",
      "|  1.0|30. FOOD IN ORIGI...|\n",
      "|  1.0|32. FOOD AND NON-...|\n",
      "|  1.0|33. FOOD AND NON-...|\n",
      "|  1.0|43. FOOD (ICE) DI...|\n",
      "|  1.0|                    |\n",
      "|  1.0|38. VENTILATION: ...|\n",
      "|  0.0|                    |\n",
      "+-----+--------------------+\n",
      "only showing top 20 rows\n",
      "\n"
     ]
    }
   ],
   "source": [
    "labeledData = labeledData.na.fill({'violations': ''})\n",
    "labeledData.show()"
   ]
  },
  {
   "cell_type": "code",
   "execution_count": 11,
   "id": "d0376ff7-6376-4a43-9dae-e8bd4722efcb",
   "metadata": {},
   "outputs": [
    {
     "data": {
      "text/plain": [
       "40461"
      ]
     },
     "execution_count": 11,
     "metadata": {},
     "output_type": "execute_result"
    }
   ],
   "source": [
    "labeledData.count()"
   ]
  },
  {
   "cell_type": "code",
   "execution_count": 12,
   "id": "68f160fc-a344-4c9c-8cb2-ba71d6a9e10c",
   "metadata": {},
   "outputs": [],
   "source": [
    "tokenizer = Tokenizer(inputCol=\"violations\", outputCol=\"words\")\n",
    "hashingTF = HashingTF(inputCol=tokenizer.getOutputCol(), outputCol=\"features\")\n",
    "lr = LogisticRegression(maxIter=10, regParam=0.1)\n",
    "pipeline = Pipeline(stages=[tokenizer, hashingTF, lr])\n",
    "\n",
    "\n",
    "model = pipeline.fit(labeledData)"
   ]
  },
  {
   "cell_type": "code",
   "execution_count": 22,
   "id": "6f3c798d-02c0-4d79-a732-6578ff1b1449",
   "metadata": {},
   "outputs": [
    {
     "name": "stdout",
     "output_type": "stream",
     "text": [
      "+-------+--------------------+---------------+--------------------+--------------------+--------------------+--------------------+--------------------+----------+\n",
      "|     id|                name|        results|          violations|               words|            features|       rawPrediction|         probability|prediction|\n",
      "+-------+--------------------+---------------+--------------------+--------------------+--------------------+--------------------+--------------------+----------+\n",
      "| 100213|       SUNDAY DINNER|           Pass|                    |                  []|(262144,[249180],...|[-2.6341903789913...|[0.06697013857677...|       1.0|\n",
      "|1072240|EZZARD CHARLES NU...|           Pass|34. FLOORS: CONST...|[34., floors:, co...|(262144,[2325,293...|[-2.8532385023829...|[0.05451415613245...|       1.0|\n",
      "|1072251|        #1 CHOP SUEY|           Pass|                    |                  []|(262144,[249180],...|[-2.6341903789913...|[0.06697013857677...|       1.0|\n",
      "|1072274|KENTUCKY FRIED CH...|           Pass|32. FOOD AND NON-...|[32., food, and, ...|(262144,[1225,126...|[-3.0210763696957...|[0.04648274425576...|       1.0|\n",
      "|1072323|              JUDY'S|           Pass|34. FLOORS: CONST...|[34., floors:, co...|(262144,[8028,126...|[-3.5512466078611...|[0.02788875713232...|       1.0|\n",
      "|1072325|              SUBWAY|           Pass|                    |                  []|(262144,[249180],...|[-2.6341903789913...|[0.06697013857677...|       1.0|\n",
      "|1072345|     SUBWAY SANDWICH|           Pass|34. FLOORS: CONST...|[34., floors:, co...|(262144,[12650,24...|[-3.0171471638813...|[0.04665720556293...|       1.0|\n",
      "|1072356|              SUBWAY|           Pass|                    |                  []|(262144,[249180],...|[-2.6341903789913...|[0.06697013857677...|       1.0|\n",
      "|1072358|       DUNKIN DONUTS|           Pass|34. FLOORS: CONST...|[34., floors:, co...|(262144,[12650,15...|[-3.2118908493600...|[0.03872069297938...|       1.0|\n",
      "|1072366|          67TH CITGO|           Fail|                    |                  []|(262144,[249180],...|[-2.6341903789913...|[0.06697013857677...|       1.0|\n",
      "|1072378|    NICKY'S CARRYOUT|           Pass|33. FOOD AND NON-...|[33., food, and, ...|(262144,[6106,386...|[-2.8138490992909...|[0.05658036860116...|       1.0|\n",
      "|1072400|    TNT PIZZA & BEEF|           Pass|34. FLOORS: CONST...|[34., floors:, co...|(262144,[11584,12...|[-2.8632182045475...|[0.05400205963868...|       1.0|\n",
      "|1072403|         HAPPY PIZZA|           Pass|38. VENTILATION: ...|[38., ventilation...|(262144,[8028,220...|[-2.7130755403353...|[0.06220619310732...|       1.0|\n",
      "|1072411|CHILDREN'S HOME A...|           Pass|34. FLOORS: CONST...|[34., floors:, co...|(262144,[1797,121...|[-2.6261562240543...|[0.06747390376967...|       1.0|\n",
      "|1072422|CHURCH OF GOD COM...|           Pass|36. LIGHTING: REQ...|[36., lighting:, ...|(262144,[6787,802...|[-2.7723940348080...|[0.05883430888053...|       1.0|\n",
      "|1072427|CARIBBEAN JERK & ...|Out of Business|                    |                  []|(262144,[249180],...|[-2.6341903789913...|[0.06697013857677...|       1.0|\n",
      "|1072437|           BEST JERK|Out of Business|                    |                  []|(262144,[249180],...|[-2.6341903789913...|[0.06697013857677...|       1.0|\n",
      "|1072466|    WHITE CASTLE #57|           Pass|                    |                  []|(262144,[249180],...|[-2.6341903789913...|[0.06697013857677...|       1.0|\n",
      "|1072472|          KING GYROS|           Pass|                    |                  []|(262144,[249180],...|[-2.6341903789913...|[0.06697013857677...|       1.0|\n",
      "|1072474|FRESH CHOICE GROC...|       No Entry|                    |                  []|(262144,[249180],...|[-2.6341903789913...|[0.06697013857677...|       1.0|\n",
      "+-------+--------------------+---------------+--------------------+--------------------+--------------------+--------------------+--------------------+----------+\n",
      "only showing top 20 rows\n",
      "\n"
     ]
    }
   ],
   "source": [
    "testDf = test.where(\"results = 'Fail' OR results = 'Pass' OR results = 'Pass w/ Conditions'\")\n",
    "testDf = test.na.fill({'violations': ''})\n",
    "predictionsDf = model.transform(testDf)\n",
    "predictionsDf.registerTempTable('Predictions')\n",
    "predictionsDf.show()"
   ]
  },
  {
   "cell_type": "code",
   "execution_count": 23,
   "id": "e520979c-75ee-49a2-a806-0758d93697bd",
   "metadata": {},
   "outputs": [
    {
     "name": "stdout",
     "output_type": "stream",
     "text": [
      "There were 188769 inspections and there were 150564 successful predictions\n",
      "This is a 79.76097770290673% success rate\n"
     ]
    }
   ],
   "source": [
    "numSuccesses = predictionsDf.where(\"\"\"(prediction = 0 AND results = 'Fail') OR\n",
    "                                        (prediction = 1 AND (results = 'Pass' OR\n",
    "                                                            results = 'Pass w/ Conditions'))\"\"\").count()\n",
    "numInspections = predictionsDf.count()\n",
    "\n",
    "print(\"There were\", numInspections, \"inspections and there were\", numSuccesses, \"successful predictions\")\n",
    "print(\"This is a\", str((float(numSuccesses) / float(numInspections)) * 100) + \"%\", \"success rate\")"
   ]
  },
  {
   "cell_type": "code",
   "execution_count": 24,
   "id": "deab82ae-8030-438e-9661-0d0212d910a0",
   "metadata": {},
   "outputs": [],
   "source": [
    "true_positive = spark.sql(\"SELECT count(*) AS cnt FROM Predictions WHERE prediction = 0 AND results = 'Fail'\").toPandas()"
   ]
  },
  {
   "cell_type": "code",
   "execution_count": 26,
   "id": "a2cb906d-7844-4394-908e-51bd5cd6124a",
   "metadata": {},
   "outputs": [],
   "source": [
    "false_positive = spark.sql(\"SELECT count(*) AS cnt FROM Predictions WHERE prediction = 0 AND (results = 'Pass' OR results = 'Pass w/ Conditions')\").toPandas()"
   ]
  },
  {
   "cell_type": "code",
   "execution_count": 28,
   "id": "2cb1f3d7-1348-4cbb-a895-d52352e7303b",
   "metadata": {},
   "outputs": [],
   "source": [
    "true_negative = spark.sql(\"SELECT count(*) AS cnt FROM Predictions WHERE prediction = 1 AND results = 'Fail'\").toPandas()"
   ]
  },
  {
   "cell_type": "code",
   "execution_count": 41,
   "id": "8fd629fc-ca65-486b-be06-0e07a2cadd99",
   "metadata": {},
   "outputs": [
    {
     "data": {
      "text/plain": [
       "26770"
      ]
     },
     "execution_count": 41,
     "metadata": {},
     "output_type": "execute_result"
    }
   ],
   "source": [
    "true_positive.at[0,'cnt']"
   ]
  },
  {
   "cell_type": "code",
   "execution_count": 30,
   "id": "d7bf9c37-cdbb-4275-9762-781e0f1665fc",
   "metadata": {},
   "outputs": [],
   "source": [
    "false_negative = spark.sql(\"SELECT count(*) AS cnt FROM Predictions WHERE prediction = 1 AND (results = 'Pass' OR results = 'Pass w/ Conditions')\").toPandas()"
   ]
  },
  {
   "cell_type": "code",
   "execution_count": 42,
   "id": "50b60e5c-3ef9-41e9-8a60-22018b9e6a57",
   "metadata": {},
   "outputs": [
    {
     "data": {
      "text/plain": [
       "(-1.1051242913372241,\n",
       " 1.100244016933441,\n",
       " -1.1008911443530143,\n",
       " 1.1048550620018287)"
      ]
     },
     "execution_count": 42,
     "metadata": {},
     "output_type": "execute_result"
    },
    {
     "data": {
      "image/png": "[encoded data removed]",
      "text/plain": [
       "<Figure size 432x288 with 1 Axes>"
      ]
     },
     "metadata": {},
     "output_type": "display_data"
    }
   ],
   "source": [
    "labels = ['True positive', 'False positive', 'True negative', 'False negative']\n",
    "sizes = [true_positive.at[0, 'cnt'], false_positive.at[0, 'cnt'], false_negative.at[0, 'cnt'], true_negative.at[0, 'cnt']]\n",
    "colors = ['turquoise', 'seagreen', 'mediumslateblue', 'palegreen', 'coral']\n",
    "plt.pie(sizes, labels=labels, autopct='%1.1f%%', colors=colors)\n",
    "plt.axis('equal')"
   ]
  }
 ],
 "metadata": {
  "kernelspec": {
   "display_name": "Python 3 (ipykernel)",
   "language": "python",
   "name": "python3"
  },
  "language_info": {
   "codemirror_mode": {
    "name": "ipython",
    "version": 3
   },
   "file_extension": ".py",
   "mimetype": "text/x-python",
   "name": "python",
   "nbconvert_exporter": "python",
   "pygments_lexer": "ipython3",
   "version": "3.9.12"
  }
 },
 "nbformat": 4,
 "nbformat_minor": 5
}
